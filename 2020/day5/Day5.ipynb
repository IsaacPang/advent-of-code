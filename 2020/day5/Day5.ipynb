{
 "cells": [
  {
   "cell_type": "code",
   "execution_count": 24,
   "metadata": {},
   "outputs": [],
   "source": [
    "from collections import deque\n",
    "\n",
    "def binary_partition(instructions, target_list, upper, lower):\n",
    "    \"\"\"\n",
    "    Applies binary partition recursively on a target_list for a given\n",
    "    set of instructions, subjected to the upper and lower condition.\n",
    "    Args:\n",
    "        instructions (str): set of instructions\n",
    "        target_list (list or range): target list for partitioning\n",
    "        upper (str): instruction to return upper half of partition\n",
    "        lower (str): instruction to return lower hafl of partition\n",
    "    \"\"\"\n",
    "    if type(instructions) != deque:\n",
    "        instructions = deque(instructions)\n",
    "\n",
    "    if instructions and len(target_list) > 1:\n",
    "        curr = instructions.popleft()\n",
    "        half_index = len(target_list) // 2\n",
    "        lower_half = target_list[:half_index]\n",
    "        upper_half = target_list[half_index:]\n",
    "        if curr == upper:\n",
    "            return binary_partition(instructions, upper_half, upper, lower)\n",
    "        elif curr == lower:\n",
    "            return binary_partition(instructions, lower_half, upper, lower)\n",
    "        else:\n",
    "            return \"Error in Instructions\"\n",
    "    else:\n",
    "        return list(target_list)\n",
    "\n",
    "def boarding_partition(boarding_pass):\n",
    "    \"\"\"\n",
    "    Applies the binary partition twice to the entire boarding pass string.\n",
    "    Note that the upper half for the row selection should be the B rows.\n",
    "    Note that the upper half for the column selection should be the R cols.\n",
    "    \"\"\"\n",
    "    rows = boarding_pass[:-3]\n",
    "    cols = boarding_pass[-3:]\n",
    "    row_nums = range(128)\n",
    "    col_nums = range(8)\n",
    "    target_row = binary_partition(rows, row_nums, 'B', 'F').pop()\n",
    "    target_col = binary_partition(cols, col_nums, 'R', 'L').pop()\n",
    "    seat_id = target_row * 8 + target_col\n",
    "    return {\"row\": target_row, \"col\": target_col, \"id\": seat_id}"
   ]
  },
  {
   "cell_type": "code",
   "execution_count": 38,
   "metadata": {},
   "outputs": [
    {
     "name": "stdout",
     "output_type": "stream",
     "text": [
      "906\n",
      "Missing ID (Your Seat): 519\n"
     ]
    }
   ],
   "source": [
    "with open('data', 'r') as f:\n",
    "    id_list = []\n",
    "    for line in f.readlines():\n",
    "        line = line.rstrip('\\n')\n",
    "        id_list.append(boarding_partition(line).get('id'))\n",
    "    \n",
    "    # Problem 1\n",
    "    # Return max seat ID    \n",
    "    print(max(id_list))\n",
    "\n",
    "    # Problem 2\n",
    "    # Return number in missing sequence.\n",
    "    id_list = sorted(id_list)\n",
    "    while id_list:\n",
    "        curr = id_list.pop()\n",
    "        if id_list[-1] != curr - 1:\n",
    "            print(f\"Missing ID (Your Seat): {curr - 1}\")\n",
    "            break"
   ]
  }
 ],
 "metadata": {
  "kernelspec": {
   "display_name": "Python 3",
   "language": "python",
   "name": "python3"
  },
  "language_info": {
   "codemirror_mode": {
    "name": "ipython",
    "version": 3
   },
   "file_extension": ".py",
   "mimetype": "text/x-python",
   "name": "python",
   "nbconvert_exporter": "python",
   "pygments_lexer": "ipython3",
   "version": "3.8.5"
  }
 },
 "nbformat": 4,
 "nbformat_minor": 4
}
