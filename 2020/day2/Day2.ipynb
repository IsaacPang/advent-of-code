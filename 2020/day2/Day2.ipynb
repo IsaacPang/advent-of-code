{
 "cells": [
  {
   "cell_type": "code",
   "execution_count": 6,
   "metadata": {},
   "outputs": [],
   "source": [
    "# read in data\n",
    "# remove the newline character in the txt file\n",
    "with open('data.txt', 'r') as f:\n",
    "    l = [i.rstrip('\\n') for i in f.readlines()]"
   ]
  },
  {
   "cell_type": "code",
   "execution_count": 20,
   "metadata": {},
   "outputs": [
    {
     "name": "stdout",
     "output_type": "stream",
     "text": [
      "Valid passwords: 396\n"
     ]
    }
   ],
   "source": [
    "# Problem 1\n",
    "# get the start and end of the rule range\n",
    "# get the letter and password for each row\n",
    "from collections import Counter\n",
    "\n",
    "def between(x, y, n):\n",
    "    return (x <= n <= y)\n",
    "\n",
    "valid = 0\n",
    "for row in l:\n",
    "    rule, password = row.split(': ')\n",
    "    ranges, letter = rule.split(' ')\n",
    "    start, end = list(map(int, ranges.split('-')))\n",
    "    d = Counter(password)\n",
    "    valid += between(start, end, d[letter])\n",
    "\n",
    "print(f'Valid passwords: {valid}')"
   ]
  },
  {
   "cell_type": "code",
   "execution_count": 22,
   "metadata": {},
   "outputs": [
    {
     "name": "stdout",
     "output_type": "stream",
     "text": [
      "Valid passwords: 428\n"
     ]
    }
   ],
   "source": [
    "# Problem 2\n",
    "valid = 0\n",
    "for row in l:\n",
    "    rule, pw = row.split(': ')\n",
    "    ranges, letter = rule.split(' ')\n",
    "    first, second = list(map(lambda x: int(x) - 1, ranges.split('-')))\n",
    "    condition = (pw[first] == letter or pw[second] == letter) and not (pw[first] == letter and pw[second] == letter)\n",
    "    valid += condition\n",
    "\n",
    "print(f'Valid passwords: {valid}')"
   ]
  }
 ],
 "metadata": {
  "kernelspec": {
   "display_name": "Python 3",
   "language": "python",
   "name": "python3"
  },
  "language_info": {
   "codemirror_mode": {
    "name": "ipython",
    "version": 3
   },
   "file_extension": ".py",
   "mimetype": "text/x-python",
   "name": "python",
   "nbconvert_exporter": "python",
   "pygments_lexer": "ipython3",
   "version": "3.8.5"
  }
 },
 "nbformat": 4,
 "nbformat_minor": 4
}
