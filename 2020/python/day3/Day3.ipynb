{
 "cells": [
  {
   "cell_type": "code",
   "execution_count": 15,
   "metadata": {},
   "outputs": [],
   "source": [
    "# read in data\n",
    "# remove the newline character in the txt file\n",
    "with open('data', 'r') as f:\n",
    "    l = [i.rstrip('\\n') for i in f.readlines()]\n",
    "    \n",
    "with open('test', 'r') as f:\n",
    "    test = [i.rstrip('\\n') for i in f.readlines()]"
   ]
  },
  {
   "cell_type": "code",
   "execution_count": 21,
   "metadata": {},
   "outputs": [
    {
     "data": {
      "text/plain": [
       "Counter({'.': 175, '#': 148})"
      ]
     },
     "execution_count": 21,
     "metadata": {},
     "output_type": "execute_result"
    }
   ],
   "source": [
    "# Problem 1\n",
    "x = 0\n",
    "y = 0\n",
    "path = ''\n",
    "while y < len(l):\n",
    "    path += l[y][x % len(l[0])]\n",
    "    x += 3\n",
    "    y += 1\n",
    "\n",
    "from collections import Counter\n",
    "Counter(path)"
   ]
  },
  {
   "cell_type": "code",
   "execution_count": 32,
   "metadata": {},
   "outputs": [
    {
     "name": "stdout",
     "output_type": "stream",
     "text": [
      "Trees encountered, # on slope (1, 1): 2\n",
      "Trees encountered, # on slope (3, 1): 7\n",
      "Trees encountered, # on slope (5, 1): 3\n",
      "Trees encountered, # on slope (7, 1): 4\n",
      "Trees encountered, # on slope (1, 2): 2\n",
      "Final product = 336\n",
      "Trees encountered, # on slope (1, 1): 50\n",
      "Trees encountered, # on slope (3, 1): 148\n",
      "Trees encountered, # on slope (5, 1): 53\n",
      "Trees encountered, # on slope (7, 1): 64\n",
      "Trees encountered, # on slope (1, 2): 29\n",
      "Final product = 727923200\n"
     ]
    }
   ],
   "source": [
    "# Problem 2\n",
    "rules = [(1, 1), (3, 1), (5, 1), (7, 1), (1, 2)]\n",
    "\n",
    "from collections import Counter\n",
    "\n",
    "def get_path(rule, trees):\n",
    "    x = 0\n",
    "    y = 0\n",
    "    path = ''\n",
    "    while y < len(trees):\n",
    "        path += trees[y][x % len(trees[0])]\n",
    "        x += rule[0]\n",
    "        y += rule[1]\n",
    "\n",
    "    pathway = Counter(path)\n",
    "    print(f\"Trees encountered, # on slope {rule}: {pathway['#']}\")\n",
    "    return pathway['#']\n",
    "\n",
    "# Testing\n",
    "product = 1\n",
    "for rule in rules:\n",
    "    product *= get_path(rule, test)\n",
    "print(f'Final product = {product}')\n",
    "\n",
    "# Actual problem\n",
    "product = 1\n",
    "for rule in rules:\n",
    "    product *= get_path(rule, l)\n",
    "print(f'Final product = {product}')"
   ]
  }
 ],
 "metadata": {
  "kernelspec": {
   "display_name": "Python 3",
   "language": "python",
   "name": "python3"
  },
  "language_info": {
   "codemirror_mode": {
    "name": "ipython",
    "version": 3
   },
   "file_extension": ".py",
   "mimetype": "text/x-python",
   "name": "python",
   "nbconvert_exporter": "python",
   "pygments_lexer": "ipython3",
   "version": "3.8.5"
  }
 },
 "nbformat": 4,
 "nbformat_minor": 4
}
