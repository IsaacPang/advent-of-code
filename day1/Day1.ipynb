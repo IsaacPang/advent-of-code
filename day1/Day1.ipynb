{
 "cells": [
  {
   "cell_type": "code",
   "execution_count": 1,
   "metadata": {},
   "outputs": [],
   "source": [
    "import numpy as np\n",
    "\n",
    "with open(\"data\", 'r') as f:\n",
    "    numbers = np.array(list(map(int, f.readlines())))"
   ]
  },
  {
   "cell_type": "code",
   "execution_count": 2,
   "metadata": {},
   "outputs": [
    {
     "name": "stdout",
     "output_type": "stream",
     "text": [
      "[197451]\n",
      "[197451]\n"
     ]
    }
   ],
   "source": [
    "for i in range(len(numbers)):\n",
    "    x = numbers[i]\n",
    "    test = np.delete(numbers, i)\n",
    "    y = test[test + x == 2020]\n",
    "    if y.size > 0:\n",
    "        print(x * y)"
   ]
  },
  {
   "cell_type": "code",
   "execution_count": 15,
   "metadata": {},
   "outputs": [
    {
     "name": "stdout",
     "output_type": "stream",
     "text": [
      "Numbers: 443, 232, 1345\n",
      "Sum: 2020\n",
      "Product: 138233720\n",
      "CPU times: user 150 ms, sys: 9.23 ms, total: 159 ms\n",
      "Wall time: 150 ms\n"
     ]
    }
   ],
   "source": [
    "%%time\n",
    "# use low-tech to break through all loops\n",
    "calculate = True\n",
    "i = 0\n",
    "while i < len(numbers) and calculate is True:\n",
    "    x = numbers[i]\n",
    "    test = np.delete(numbers, i)\n",
    "    i += 1\n",
    "    for j in range(len(test)):\n",
    "        y = test[j]\n",
    "        test2 = np.delete(test, j)\n",
    "        z = test2[test2 + x + y == 2020]\n",
    "        if z.size > 0:\n",
    "            z = int(z)\n",
    "            print(f\"Numbers: {x}, {y}, {z}\")\n",
    "            print(f\"Sum: {x + y + z}\")\n",
    "            print(f\"Product: {x * y * z}\")\n",
    "            calculate = False\n",
    "            break"
   ]
  },
  {
   "cell_type": "code",
   "execution_count": 17,
   "metadata": {},
   "outputs": [
    {
     "name": "stdout",
     "output_type": "stream",
     "text": [
      "Numbers: 443, 232, 1345\n",
      "Sum: 2020\n",
      "Product: 138233720\n",
      "CPU times: user 396 ms, sys: 0 ns, total: 396 ms\n",
      "Wall time: 394 ms\n"
     ]
    }
   ],
   "source": [
    "%%time\n",
    "# use itertools to break out of single loop\n",
    "from itertools import combinations\n",
    "\n",
    "for x, y, z in combinations(numbers, 3):\n",
    "    if x + y + z == 2020:\n",
    "        print(f\"Numbers: {x}, {y}, {z}\")\n",
    "        print(f\"Sum: {x + y + z}\")\n",
    "        print(f\"Product: {x * y * z}\")\n",
    "        break"
   ]
  }
 ],
 "metadata": {
  "kernelspec": {
   "display_name": "Python 3",
   "language": "python",
   "name": "python3"
  },
  "language_info": {
   "codemirror_mode": {
    "name": "ipython",
    "version": 3
   },
   "file_extension": ".py",
   "mimetype": "text/x-python",
   "name": "python",
   "nbconvert_exporter": "python",
   "pygments_lexer": "ipython3",
   "version": "3.8.5"
  }
 },
 "nbformat": 4,
 "nbformat_minor": 4
}
